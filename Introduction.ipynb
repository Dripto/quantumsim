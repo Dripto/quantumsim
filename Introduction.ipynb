{
 "cells": [
  {
   "cell_type": "markdown",
   "metadata": {},
   "source": [
    "# Introduction\n"
   ]
  },
  {
   "cell_type": "markdown",
   "metadata": {},
   "source": [
    "This is a short overview over the features of the `quantumsim` package, from the perspective of a user."
   ]
  },
  {
   "cell_type": "markdown",
   "metadata": {},
   "source": [
    "## Circuits\n",
    "\n",
    "`quantumsim.circuit` contains the `Circuit` class, which hold a set of named qubits (but not their state) and a sequence of gates that are applied to the qubits. As an example, a CNOT can be implemented using a CZ and Hadamard gates like this:\n"
   ]
  },
  {
   "cell_type": "code",
   "execution_count": 1,
   "metadata": {
    "collapsed": false
   },
   "outputs": [],
   "source": [
    "import numpy as np\n",
    "from quantumsim.circuit import Circuit\n",
    "\n",
    "t1, t2 = 3000, 1500\n",
    "\n",
    "c = Circuit(title=\"CNOT gate\")\n",
    "c.add_qubit(\"A\", t1, t2)\n",
    "c.add_qubit(\"B\", t1, t2)\n",
    "\n",
    "c.add_hadamard(\"B\", time=0)\n",
    "c.add_hadamard(\"B\", time=40)\n",
    "c.add_cphase(\"A\", \"B\", time=20);"
   ]
  },
  {
   "cell_type": "markdown",
   "metadata": {},
   "source": [
    "As you can see, qubits take T1 and T2 arguments. They are however only used when explicitly requested from the Circuit, more on that later.\n",
    "\n",
    "Also, all times are measured in an arbitrary unit, but make sure to be consistent, for instance use nanoseconds everywhere."
   ]
  },
  {
   "cell_type": "markdown",
   "metadata": {},
   "source": [
    "The circuit can be plotted, using `matplotlib`:"
   ]
  },
  {
   "cell_type": "code",
   "execution_count": 2,
   "metadata": {
    "collapsed": false
   },
   "outputs": [
    {
     "data": {
      "image/png": "[encoded data removed]",
      "text/plain": [
       "<matplotlib.figure.Figure at 0x7fcbe88daa20>"
      ]
     },
     "metadata": {},
     "output_type": "display_data"
    }
   ],
   "source": [
    "%matplotlib inline\n",
    "c.plot();"
   ]
  },
  {
   "cell_type": "markdown",
   "metadata": {},
   "source": [
    "# Measurements\n",
    "\n",
    "Measurement gates are added as any other gate, but they require additional information in form of a \"sampler\".\n",
    "The sampler specifies how the measurement outcomes (and declared outcomes) are determined.\n",
    "\n",
    "Here, we use a \"uniform noisy sampler\", which will use a random number generator to sample from \n",
    "the projection probabilities (as expected in an experiment), but also sometimes (we choose 3%) declares the wrong outcome.\n",
    "\n",
    "In order to obtain the declared outcome, we create a bit that obtains the measurement output. \n",
    "It is formally a qubit, but since is never put in a superposition, it will be efficiently implemented.\n"
   ]
  },
  {
   "cell_type": "code",
   "execution_count": 3,
   "metadata": {
    "collapsed": false
   },
   "outputs": [
    {
     "data": {
      "image/png": "[encoded data removed]",
      "text/plain": [
       "<matplotlib.figure.Figure at 0x7fcbb6e2bf28>"
      ]
     },
     "metadata": {},
     "output_type": "display_data"
    }
   ],
   "source": [
    "from quantumsim.circuit import uniform_noisy_sampler\n",
    "\n",
    "c.add_qubit(\"M\")\n",
    "\n",
    "sampler = uniform_noisy_sampler(readout_error=0.03, seed=42)\n",
    "\n",
    "c.add_measurement(\"B\", time=80, output_bit=\"M\", sampler=sampler);\n",
    "\n",
    "c.plot();"
   ]
  },
  {
   "cell_type": "markdown",
   "metadata": {},
   "source": [
    "# Idling gates\n",
    "\n",
    "Unless noted otherwise, gates are always assumed to be applied perfectly. \n",
    "Besides the declaration error of the measurement, we have not yet introduced any source of error.\n",
    "\n",
    "The main source of error is in fact amplitude and phase damping. These are added automatically as rest gates inbetween any \n",
    "two other gates, using the `add_waiting_gates` function. Note that the measurement qubit has no rest gates added,\n",
    "because we did not specify any `t1`, `t2` when creating it.\n",
    "\n",
    "Note that amplitude and phase damping is assumed to be Markovian, i.e. phase noise is non-echoable. \n",
    "Also note that you must give $T_2$, not $T_\\phi$ (and giving $T_2 > 2 T_1$ results in an error).\n",
    "\n",
    "The added idling gates are represented by crosses and annotated with the idling time."
   ]
  },
  {
   "cell_type": "code",
   "execution_count": 4,
   "metadata": {
    "collapsed": false
   },
   "outputs": [
    {
     "data": {
      "image/png": "[encoded data removed]",
      "text/plain": [
       "<matplotlib.figure.Figure at 0x7fcbb6cb57b8>"
      ]
     },
     "metadata": {},
     "output_type": "display_data"
    }
   ],
   "source": [
    "c.add_waiting_gates()\n",
    "c.plot();"
   ]
  },
  {
   "cell_type": "markdown",
   "metadata": {},
   "source": [
    "# Simulation\n",
    "\n",
    "Now we are ready to simulate the circuit. \n",
    "\n",
    "The state of the qubits is held in a `quantumsim.sparsedm.SparseDM` object (a \"sparse density matrix\"), which is where the magic happens.\n",
    "\n",
    "We create a `SparseDM` with the same qubit names as used in the circuit."
   ]
  },
  {
   "cell_type": "code",
   "execution_count": 5,
   "metadata": {
    "collapsed": false
   },
   "outputs": [],
   "source": [
    "from quantumsim.sparsedm import SparseDM\n",
    "\n",
    "sdm = SparseDM(c.get_qubit_names())"
   ]
  },
  {
   "cell_type": "markdown",
   "metadata": {},
   "source": [
    "When loading `sparsedm`, an automatic check is performed whether an NVidia CUDA runtime and the pycuda package are available to perform computation on a GPU. If not, a numpy-based backend is used (thanks to a nice performance boost in `numpy.einsum` in version 1.12). You can check whether the GPU backend is being used:"
   ]
  },
  {
   "cell_type": "code",
   "execution_count": 6,
   "metadata": {
    "collapsed": false
   },
   "outputs": [
    {
     "name": "stdout",
     "output_type": "stream",
     "text": [
      "GPU is used: False\n"
     ]
    }
   ],
   "source": [
    "import quantumsim.sparsedm\n",
    "print(\"GPU is used:\", quantumsim.sparsedm.using_gpu)"
   ]
  },
  {
   "cell_type": "markdown",
   "metadata": {},
   "source": [
    "Each qubit of the `SparseDM` can be either \"classical\" or \"quantum\". If it is classical, its state is 0 or 1 (in computational basis), and not correlated to the state of any other qubit. Initially, all qubits are in the ground state. We flip the control bit A so that something happens.\n",
    "\n",
    "The state of \"Classical\" qubits are saved in a simple dictionary, `SparseDM.classical`."
   ]
  },
  {
   "cell_type": "code",
   "execution_count": 7,
   "metadata": {
    "collapsed": false
   },
   "outputs": [
    {
     "name": "stdout",
     "output_type": "stream",
     "text": [
      "initial state: {'M': 0, 'B': 0, 'A': 1}\n"
     ]
    }
   ],
   "source": [
    "sdm.classical['A'] = 1\n",
    "print(\"initial state:\", sdm.classical)"
   ]
  },
  {
   "cell_type": "markdown",
   "metadata": {},
   "source": [
    "Now we apply the circuit. Before we can do that, we must instruct the circuit to bring its gates in the correct order.\n",
    "This essentially orders the Circuits by time, and optimizes for measurements to be performed 'as soon as possible'. "
   ]
  },
  {
   "cell_type": "code",
   "execution_count": 8,
   "metadata": {
    "collapsed": false
   },
   "outputs": [],
   "source": [
    "c.order()\n",
    "c.apply_to(sdm)"
   ]
  },
  {
   "cell_type": "markdown",
   "metadata": {},
   "source": [
    "Whenever a gate acts on a qubit, it becomes \"quantum\", meaning it becomes part of the large density matrix `sdm.full_dm`. Whenever a gate is measured and projected, it becomes classical again. After application of the circuit, the control bit A will thus be quantum. The measured bit B and the declared measurement outcome M should be 1 (unless an error occured), because the CNOT flips B."
   ]
  },
  {
   "cell_type": "code",
   "execution_count": 9,
   "metadata": {
    "collapsed": false,
    "scrolled": true
   },
   "outputs": [
    {
     "name": "stdout",
     "output_type": "stream",
     "text": [
      "classical bits after one round: {'M': 1, 'B': 1}\n"
     ]
    }
   ],
   "source": [
    "print(\"classical bits after one round:\", sdm.classical)"
   ]
  },
  {
   "cell_type": "markdown",
   "metadata": {},
   "source": [
    "Measurements project the density matrix, without renormalizing, we can thus obtain the probability that this measurement outcome actually would be observed:"
   ]
  },
  {
   "cell_type": "code",
   "execution_count": 10,
   "metadata": {
    "collapsed": false
   },
   "outputs": [
    {
     "name": "stdout",
     "output_type": "stream",
     "text": [
      "probability: 0.938366690829\n"
     ]
    }
   ],
   "source": [
    "print(\"probability:\", sdm.trace())"
   ]
  },
  {
   "cell_type": "markdown",
   "metadata": {},
   "source": [
    "Let's run the whole circuit for a number of times and look at the declared outcome to see what happens."
   ]
  },
  {
   "cell_type": "code",
   "execution_count": 11,
   "metadata": {
    "collapsed": false
   },
   "outputs": [
    {
     "name": "stdout",
     "output_type": "stream",
     "text": [
      "150 rounds of outcomes of CNOT-and-measurement:\n",
      "[0, 1, 0, 1, 0, 1, 0, 1, 0, 1, 0, 1, 0, 1, 0, 1, 1, 0, 1, 0, 0, 0, 0, 0, 0, 0, 0, 0, 0, 0, 0, 0, 0, 0, 0, 0, 0, 0, 0, 0, 0, 0, 0, 0, 0, 0, 0, 0, 0, 0, 0, 0, 0, 0, 0, 0, 0, 0, 0, 0, 0, 0, 0, 0, 0, 0, 0, 0, 0, 0, 0, 0, 0, 0, 0, 0, 0, 0, 0, 0, 0, 0, 0, 0, 1, 0, 0, 0, 0, 0, 0, 0, 0, 0, 0, 0, 0, 0, 0, 0, 0, 1, 0, 0, 0, 0, 0, 0, 0, 0, 0, 0, 0, 0, 0, 0, 0, 1, 0, 0, 0, 0, 0, 0, 0, 0, 0, 0, 0, 0, 0, 0, 0, 0, 0, 0, 0, 0, 0, 0, 0, 0, 0, 0, 0, 0, 0, 0, 0, 0]\n"
     ]
    }
   ],
   "source": [
    "measurements = []\n",
    "\n",
    "for i in range(150):\n",
    "    c.apply_to(sdm)\n",
    "    measurements.append(sdm.classical['M'])\n",
    "\n",
    "print(\"150 rounds of outcomes of CNOT-and-measurement:\")\n",
    "print(measurements)"
   ]
  },
  {
   "cell_type": "markdown",
   "metadata": {},
   "source": [
    "As we can see, the qubit B toggles each round as long as A is the 1 state, but after a while A decays and the flipping stops. Once during the flipping phase, the qubit decays to 0 while in the 1 state, and then is flipped to 1 again, resulting in two subsequent 1 measurements.\n",
    "\n",
    "Afterwards, an occasional declaration error is observed.\n",
    "\n",
    "The probability that exactly this trace is observed is now vanishingly small:"
   ]
  },
  {
   "cell_type": "code",
   "execution_count": 12,
   "metadata": {
    "collapsed": false
   },
   "outputs": [
    {
     "name": "stdout",
     "output_type": "stream",
     "text": [
      "probability: 7.6898840428e-12\n"
     ]
    }
   ],
   "source": [
    "print(\"probability:\", sdm.trace())"
   ]
  },
  {
   "cell_type": "markdown",
   "metadata": {
    "collapsed": true
   },
   "source": [
    "We can keep the state in `sdm`, but reset this probability:"
   ]
  },
  {
   "cell_type": "code",
   "execution_count": 13,
   "metadata": {
    "collapsed": false
   },
   "outputs": [
    {
     "name": "stdout",
     "output_type": "stream",
     "text": [
      "probability: 1.0\n"
     ]
    }
   ],
   "source": [
    "sdm.renormalize()\n",
    "print(\"probability:\", sdm.trace())"
   ]
  },
  {
   "cell_type": "markdown",
   "metadata": {},
   "source": [
    "And finally apply one more round and thus obtain the conditional probability of the 152nd measurement outcome given the history of the previous outcomes:"
   ]
  },
  {
   "cell_type": "code",
   "execution_count": 14,
   "metadata": {
    "collapsed": false
   },
   "outputs": [
    {
     "name": "stdout",
     "output_type": "stream",
     "text": [
      "152nd measurement: 0\n",
      "conditional probability: 0.957406624512\n"
     ]
    }
   ],
   "source": [
    "c.apply_to(sdm)\n",
    "print(\"152nd measurement:\", sdm.classical['M'])\n",
    "print(\"conditional probability:\", sdm.trace())"
   ]
  },
  {
   "cell_type": "markdown",
   "metadata": {},
   "source": [
    "The probability is larger than for the first round because the two qubits A and B are in the ground state now, and have less opportunity to decay."
   ]
  },
  {
   "cell_type": "markdown",
   "metadata": {},
   "source": [
    "# An example: Bell state preparation"
   ]
  },
  {
   "cell_type": "markdown",
   "metadata": {},
   "source": [
    "This example is inspired by an actual problem: A resonant C-Z gate is implemented by using a resonator bus as a intermediate qubit with stronger coupling to the other qubit. Using this C-Z gate to generate an entangled state could be described in a circuit like this:"
   ]
  },
  {
   "cell_type": "code",
   "execution_count": 15,
   "metadata": {
    "collapsed": false
   },
   "outputs": [],
   "source": [
    "def bell_state_circuit(t1_cp=np.inf, t2_cp=np.inf, t1_bus=np.inf, t2_bus=np.inf, t1_swap=np.inf, t2_swap=np.inf):\n",
    "    c = quantumsim.circuit.Circuit(\"Bell state generation\")\n",
    "    c.add_qubit(\"swap\", t1=t1_swap, t2=t2_swap)\n",
    "    c.add_qubit(\"bus\", t1=t1_bus, t2=t2_bus)\n",
    "    c.add_qubit(\"cp\", t1=t1_cp, t2=t2_cp)\n",
    "\n",
    "    c.add_gate(quantumsim.circuit.RotateY(\"swap\", angle=np.pi/2, time=10))\n",
    "    c.add_gate(quantumsim.circuit.RotateY(\"cp\", angle=np.pi/2, time=40))\n",
    "    c.add_gate(quantumsim.circuit.ISwap(\"swap\", \"bus\", time=65))\n",
    "    c.add_gate(quantumsim.circuit.CPhase(\"cp\", \"bus\", time=100))\n",
    "    c.add_gate(quantumsim.circuit.ISwap(\"swap\", \"bus\", time=135))\n",
    "    c.add_gate(quantumsim.circuit.RotateY(\"cp\", angle=-np.pi/2, time=190))\n",
    "    c.add_gate(quantumsim.circuit.ResetGate(\"bus\", time=200, state=0))\n",
    "    \n",
    "    c.add_waiting_gates(tmin=0, tmax=200)\n",
    "    \n",
    "    c.order()\n",
    "    return c"
   ]
  },
  {
   "cell_type": "markdown",
   "metadata": {},
   "source": [
    "Remark: You see that all many gates are available in the `circuit` module (and they are getting more and more). \n",
    "The reset gate sets the state of the bus qubit back to zero (also making it classical) and is used here to trace out the state of the resonator from the full density matrix at the end of the calculation."
   ]
  },
  {
   "cell_type": "markdown",
   "metadata": {},
   "source": [
    "We are interested in the effect of amplitude and phase damping on the final state.\n",
    "To verify that we indeed are preparing a Bell state, we first build a clean circuit (no decay), which should generate the target state."
   ]
  },
  {
   "cell_type": "code",
   "execution_count": 56,
   "metadata": {
    "collapsed": false
   },
   "outputs": [
    {
     "data": {
      "image/png": "[encoded data removed]",
      "text/plain": [
       "<matplotlib.figure.Figure at 0x7fcbb6c5cf28>"
      ]
     },
     "metadata": {},
     "output_type": "display_data"
    }
   ],
   "source": [
    "bell_circuit_clean = bell_state_circuit()\n",
    "bell_circuit_clean.plot()"
   ]
  },
  {
   "cell_type": "markdown",
   "metadata": {},
   "source": [
    "And here we set the decay times to obtain the circuit with decay:"
   ]
  },
  {
   "cell_type": "code",
   "execution_count": 25,
   "metadata": {
    "collapsed": false
   },
   "outputs": [
    {
     "data": {
      "image/png": "[encoded data removed]",
      "text/plain": [
       "<matplotlib.figure.Figure at 0x7fcbb6bc4358>"
      ]
     },
     "metadata": {},
     "output_type": "display_data"
    }
   ],
   "source": [
    "bell_circuit_decay = bell_state_circuit(t1_cp=19000, t2_cp=6000, t1_bus=7000, t2_bus=14000, t1_swap=16000, t2_swap=4000)\n",
    "bell_circuit_decay.plot()"
   ]
  },
  {
   "cell_type": "markdown",
   "metadata": {},
   "source": [
    "Now let us apply the clean circuit to a system:"
   ]
  },
  {
   "cell_type": "code",
   "execution_count": 34,
   "metadata": {
    "collapsed": true
   },
   "outputs": [],
   "source": [
    "bell_state_clean = quantumsim.sparsedm.SparseDM(bell_circuit_clean.get_qubit_names())\n",
    "bell_circuit_clean.apply_to(bell_state_clean)"
   ]
  },
  {
   "cell_type": "markdown",
   "metadata": {},
   "source": [
    "We can obtain the density matrix using `SparseDM.full_dm.to_array()`:"
   ]
  },
  {
   "cell_type": "code",
   "execution_count": 37,
   "metadata": {
    "collapsed": false
   },
   "outputs": [
    {
     "data": {
      "text/plain": [
       "array([[ 0.5+0.j,  0.0+0.j,  0.0+0.j, -0.5+0.j],\n",
       "       [ 0.0+0.j,  0.0+0.j,  0.0+0.j, -0.0+0.j],\n",
       "       [ 0.0+0.j,  0.0+0.j,  0.0+0.j,  0.0+0.j],\n",
       "       [-0.5+0.j, -0.0+0.j,  0.0+0.j,  0.5+0.j]])"
      ]
     },
     "execution_count": 37,
     "metadata": {},
     "output_type": "execute_result"
    }
   ],
   "source": [
    "bell_state_clean.full_dm.to_array().round(3)"
   ]
  },
  {
   "cell_type": "markdown",
   "metadata": {},
   "source": [
    "This indeed looks like a Bell state.\n",
    "It is important to know which qubit is the least significant bit in this density matrix. The choice is done automatically by `SparseDM`. The order is obtainable from `SparseDM.idx_in_full_dm`. Here, the \"swap\" qubit is the least significant bit."
   ]
  },
  {
   "cell_type": "code",
   "execution_count": 40,
   "metadata": {
    "collapsed": false
   },
   "outputs": [
    {
     "data": {
      "text/plain": [
       "{'cp': 1, 'swap': 0}"
      ]
     },
     "execution_count": 40,
     "metadata": {},
     "output_type": "execute_result"
    }
   ],
   "source": [
    "bell_state_clean.idx_in_full_dm"
   ]
  },
  {
   "cell_type": "markdown",
   "metadata": {},
   "source": [
    "Let us do the same thing for the decaying case:"
   ]
  },
  {
   "cell_type": "code",
   "execution_count": 54,
   "metadata": {
    "collapsed": false
   },
   "outputs": [
    {
     "data": {
      "text/plain": [
       "array([[ 0.498+0.j,  0.001+0.j, -0.002+0.j, -0.475+0.j],\n",
       "       [ 0.001+0.j,  0.006+0.j, -0.005+0.j, -0.002+0.j],\n",
       "       [-0.002+0.j, -0.005+0.j,  0.011+0.j,  0.001+0.j],\n",
       "       [-0.475+0.j, -0.002+0.j,  0.001+0.j,  0.485+0.j]])"
      ]
     },
     "execution_count": 54,
     "metadata": {},
     "output_type": "execute_result"
    }
   ],
   "source": [
    "bell_state_decay = quantumsim.sparsedm.SparseDM(bell_circuit_decay.get_qubit_names())\n",
    "bell_circuit_decay.apply_to(bell_state_decay)\n",
    "bell_state_decay.full_dm.to_array().round(3)"
   ]
  },
  {
   "cell_type": "markdown",
   "metadata": {},
   "source": [
    "And we see that the density matrix is close, but not perfect, due to the decay."
   ]
  },
  {
   "cell_type": "markdown",
   "metadata": {},
   "source": [
    "## Finally, a small hack: fidelity in one line\n",
    "\n",
    "Internally, density matrices are not stored as (complex, hermitian) density matrices as the one above, but as Pauli vectors (albeit in a somewhat non-standard basis). This means that the fidelity can be obtained in one line by a neat trick, even though this only works if the numpy-based backend is used:"
   ]
  },
  {
   "cell_type": "code",
   "execution_count": 58,
   "metadata": {
    "collapsed": false
   },
   "outputs": [
    {
     "name": "stdout",
     "output_type": "stream",
     "text": [
      "Bell state fidelity:  0.966434515355\n"
     ]
    }
   ],
   "source": [
    "#fidelity\n",
    "if quantumsim.sparsedm.using_gpu == False:\n",
    "    print(\"Bell state fidelity: \", np.dot(bell_state_decay.full_dm.dm.ravel(), bell_state_clean.full_dm.dm.ravel()))"
   ]
  }
 ],
 "metadata": {
  "kernelspec": {
   "display_name": "Python 3",
   "language": "python",
   "name": "python3"
  },
  "language_info": {
   "codemirror_mode": {
    "name": "ipython",
    "version": 3
   },
   "file_extension": ".py",
   "mimetype": "text/x-python",
   "name": "python",
   "nbconvert_exporter": "python",
   "pygments_lexer": "ipython3",
   "version": "3.6.0a3+"
  }
 },
 "nbformat": 4,
 "nbformat_minor": 0
}
